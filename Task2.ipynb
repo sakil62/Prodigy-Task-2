{
 "cells": [
  {
   "cell_type": "code",
   "execution_count": 1,
   "id": "6c9a21e0",
   "metadata": {},
   "outputs": [
    {
     "name": "stdout",
     "output_type": "stream",
     "text": [
      "Welcome to the Guess the Number game!\n",
      "I'm thinking of a number between 1 and 100.\n",
      "Enter your guess: 50\n",
      "Too low. Try again!\n",
      "Enter your guess: 70\n",
      "Too low. Try again!\n",
      "Enter your guess: 90\n",
      "Too high. Try again!\n",
      "Enter your guess: 80\n",
      "Too high. Try again!\n",
      "Enter your guess: 75\n",
      "Too low. Try again!\n",
      "Enter your guess: 79\n",
      "Congratulations! You guessed the number in 6 attempts.\n"
     ]
    }
   ],
   "source": [
    "import random\n",
    "\n",
    "def guess_the_number():\n",
    "    # Generate a random number between 1 and 100\n",
    "    number_to_guess = random.randint(1, 100)\n",
    "    attempts = 0\n",
    "    print(\"Welcome to the Guess the Number game!\")\n",
    "    print(\"I'm thinking of a number between 1 and 100.\")\n",
    "\n",
    "    while True:\n",
    "        # Get user input\n",
    "        try:\n",
    "            guess = int(input(\"Enter your guess: \"))\n",
    "        except ValueError:\n",
    "            print(\"Please enter a valid integer.\")\n",
    "            continue\n",
    "\n",
    "        # Increment attempt counter\n",
    "        attempts += 1\n",
    "\n",
    "        # Compare guess to the generated number\n",
    "        if guess < number_to_guess:\n",
    "            print(\"Too low. Try again!\")\n",
    "        elif guess > number_to_guess:\n",
    "            print(\"Too high. Try again!\")\n",
    "        else:\n",
    "            print(f\"Congratulations! You guessed the number in {attempts} attempts.\")\n",
    "            break\n",
    "\n",
    "# Run the game\n",
    "guess_the_number()\n"
   ]
  },
  {
   "cell_type": "code",
   "execution_count": null,
   "id": "c8bd9d04",
   "metadata": {},
   "outputs": [],
   "source": []
  }
 ],
 "metadata": {
  "kernelspec": {
   "display_name": "Python 3 (ipykernel)",
   "language": "python",
   "name": "python3"
  },
  "language_info": {
   "codemirror_mode": {
    "name": "ipython",
    "version": 3
   },
   "file_extension": ".py",
   "mimetype": "text/x-python",
   "name": "python",
   "nbconvert_exporter": "python",
   "pygments_lexer": "ipython3",
   "version": "3.13.5"
  }
 },
 "nbformat": 4,
 "nbformat_minor": 5
}
